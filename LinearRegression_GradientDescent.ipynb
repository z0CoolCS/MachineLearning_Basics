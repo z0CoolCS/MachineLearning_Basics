{
  "nbformat": 4,
  "nbformat_minor": 0,
  "metadata": {
    "colab": {
      "name": "Homework1.ipynb",
      "provenance": [],
      "collapsed_sections": []
    },
    "kernelspec": {
      "name": "python3",
      "display_name": "Python 3"
    },
    "language_info": {
      "name": "python"
    }
  },
  "cells": [
    {
      "cell_type": "code",
      "metadata": {
        "id": "Rr8NQnMU9YoD"
      },
      "source": [
        "import numpy as np\n",
        "import matplotlib.pyplot as plt"
      ],
      "execution_count": null,
      "outputs": []
    },
    {
      "cell_type": "code",
      "metadata": {
        "id": "aSK9nI5bsZoY"
      },
      "source": [
        "def h(x, w):\n",
        "  return x @ w"
      ],
      "execution_count": null,
      "outputs": []
    },
    {
      "cell_type": "markdown",
      "metadata": {
        "id": "WSTNTHnzxHKm"
      },
      "source": [
        "**LOSS FUNCTION Minimum Square Error (MSE)**"
      ]
    },
    {
      "cell_type": "code",
      "metadata": {
        "id": "J98YHWR0Aix8"
      },
      "source": [
        "def error_mse(x, y, w):\n",
        "  return sum((h(x, w) - y) ** 2) / (2*len(y))"
      ],
      "execution_count": null,
      "outputs": []
    },
    {
      "cell_type": "code",
      "metadata": {
        "id": "T3YcIFgbBcE8"
      },
      "source": [
        "def loss_function_mse(x, y, w):\n",
        "  return np.sum((h(x, w) - y) * x, axis = 0, keepdims= True).T / len(y)"
      ],
      "execution_count": null,
      "outputs": []
    },
    {
      "cell_type": "markdown",
      "metadata": {
        "id": "e4ZfOgjgZial"
      },
      "source": [
        "**LOSS FUNCTION Minimum Absolute Error (MAE)**"
      ]
    },
    {
      "cell_type": "code",
      "metadata": {
        "id": "_1JLXGo_ZpvW"
      },
      "source": [
        "def error_mae(x, y, w):\n",
        "  return sum(np.abs(h(x, w) - y)) / len(y)"
      ],
      "execution_count": null,
      "outputs": []
    },
    {
      "cell_type": "code",
      "metadata": {
        "id": "om8_pRnqZ3bl"
      },
      "source": [
        "def loss_function_mae(x, y, w):\n",
        "  diff = (h(x, w) - y)\n",
        "  return np.sum((diff / np.abs(diff)) * x, axis = 0, keepdims= True).T / len(y)"
      ],
      "execution_count": null,
      "outputs": []
    },
    {
      "cell_type": "markdown",
      "metadata": {
        "id": "aRWI3mYzxNtS"
      },
      "source": [
        "**LOSS FUNCTION WITH REGULAIRZATION RIDGE**"
      ]
    },
    {
      "cell_type": "code",
      "metadata": {
        "id": "0Av2Ms5Poj5f"
      },
      "source": [
        "def regularization_ridge_error(error_function, x, y, w):\n",
        "  w_0 = np.copy(w)\n",
        "  w_0[0] = 0\n",
        "  return error_function(x, y, w) + (lambda_v * sum(w_0*w_0)) /  (2*len(y))"
      ],
      "execution_count": null,
      "outputs": []
    },
    {
      "cell_type": "code",
      "metadata": {
        "id": "kYA99r3rKHwU"
      },
      "source": [
        "def ridge_regression(w):\n",
        "  with_w0 = lambda_v * w \n",
        "  with_w0[0][0] = 0\n",
        "  return with_w0"
      ],
      "execution_count": null,
      "outputs": []
    },
    {
      "cell_type": "code",
      "metadata": {
        "id": "KNSPgvcSK2e3"
      },
      "source": [
        "def lost_function_ridge(loss_function, x, y, w):\n",
        "  return loss_function(x, y, w) + (ridge_regression(w))/ len(y) "
      ],
      "execution_count": null,
      "outputs": []
    },
    {
      "cell_type": "markdown",
      "metadata": {
        "id": "tybQ4HTMxTRG"
      },
      "source": [
        "**LOSS FUNCTION WITH REGULARIZATION LASSO**"
      ]
    },
    {
      "cell_type": "code",
      "metadata": {
        "id": "mXNmOfr0Pdfw"
      },
      "source": [
        "def regularization_lasso_error(error_function, x, y, w):\n",
        "  w_0 = np.copy(w)\n",
        "  w_0[0] = 0\n",
        "  return error_function(x, y, w) + (lambda_v * np.abs(w_0))/ (2*len(y))"
      ],
      "execution_count": null,
      "outputs": []
    },
    {
      "cell_type": "code",
      "metadata": {
        "id": "VPxaLgw8dfYD"
      },
      "source": [
        "def lasso_regression(w):\n",
        "  with_w0 = lambda_v * w / np.abs(w)\n",
        "  with_w0[0][0] = 0\n",
        "  return with_w0 "
      ],
      "execution_count": null,
      "outputs": []
    },
    {
      "cell_type": "code",
      "metadata": {
        "id": "eYUCgKS2Psbt"
      },
      "source": [
        "def lost_function_lasso(loss_function, x, y, w):\n",
        "  return loss_function(x, y, w) + lasso_regression(w)/ len(y)"
      ],
      "execution_count": null,
      "outputs": []
    },
    {
      "cell_type": "markdown",
      "metadata": {
        "id": "6DOUrT_jyILO"
      },
      "source": [
        "**Generate DataSet**"
      ]
    },
    {
      "cell_type": "code",
      "metadata": {
        "id": "exjL-tY-9-3I",
        "colab": {
          "base_uri": "https://localhost:8080/",
          "height": 268
        },
        "outputId": "950e1245-c790-49df-e551-f7ef7fa72e4b"
      },
      "source": [
        "x = np.arange(0, 1, .01)\n",
        "y = np.array([np.sin(2*i*np.pi)+np.random.normal(0,0.2)  for i in x])\n",
        "y.shape = (len(x), 1) #(10, 1) nrows = 10, ncols = 1\n",
        "ones = np.ones(len(x))\n",
        "x = np.c_[ones, x]\n",
        "plt.scatter(x[:,1], y)\n",
        "plt.show()"
      ],
      "execution_count": null,
      "outputs": [
        {
          "output_type": "display_data",
          "data": {
            "image/png": "[encoded data removed]",
            "text/plain": [
              "<Figure size 432x288 with 1 Axes>"
            ]
          },
          "metadata": {
            "tags": [],
            "needs_background": "light"
          }
        }
      ]
    },
    {
      "cell_type": "markdown",
      "metadata": {
        "id": "nCj63r-t_TZd"
      },
      "source": [
        "**Generate Train and Test DataSet**"
      ]
    },
    {
      "cell_type": "code",
      "metadata": {
        "id": "XcpEb-FLwEfI"
      },
      "source": [
        "def getSetTraining(x, y):\n",
        "  index = np.arange(0, len(y), step = 1)\n",
        "  index_limit = int(.75*len(index))\n",
        "  np.random.shuffle(index)\n",
        "  index_train, index_test = index[:index_limit], index[index_limit:]\n",
        "  index_train = np.sort(index_train)\n",
        "  index_test = np.sort(index_test)\n",
        "  return x[index_train,:], x[index_test,:],y[index_train,:], y[index_test,:]\n",
        "x_train, x_test, y_train, y_test = getSetTraining(x, y)"
      ],
      "execution_count": null,
      "outputs": []
    },
    {
      "cell_type": "code",
      "metadata": {
        "id": "ZngLwU3f4xT0"
      },
      "source": [
        "def rescaled(x_p):\n",
        "  dim = len(w)\n",
        "  i = x_train.shape[1] - 1\n",
        "  xcopy = np.copy(x_p)\n",
        "  while (dim > i + 1):\n",
        "      x_tmp = xcopy[:,i] * xcopy[:,1]\n",
        "      xcopy = np.c_[xcopy, x_tmp]\n",
        "      i += 1\n",
        "  return xcopy"
      ],
      "execution_count": null,
      "outputs": []
    },
    {
      "cell_type": "markdown",
      "metadata": {
        "id": "i7eGAxKI_MXh"
      },
      "source": [
        "**Batch Gradient Descent**"
      ]
    },
    {
      "cell_type": "code",
      "metadata": {
        "id": "y46gdM869k7n"
      },
      "source": [
        "def batch_gradient_descent(loss_function, x, y, w):\n",
        "  return - alpha * loss_function(x, y, w)"
      ],
      "execution_count": null,
      "outputs": []
    },
    {
      "cell_type": "markdown",
      "metadata": {
        "id": "XQjsMMidD_ii"
      },
      "source": [
        "**Stochastic Gradient Descent**"
      ]
    },
    {
      "cell_type": "code",
      "metadata": {
        "id": "1oP32_3-EOtn"
      },
      "source": [
        "def stochastic_gradient_descent(loss_function, x, y, w):\n",
        "  index_rand = np.random.permutation(len(y))[0]\n",
        "  example_x = x[index_rand:index_rand+1,:]\n",
        "  example_y = y[index_rand:index_rand+1,:]\n",
        "  return - alpha * loss_function(example_x, example_y, w)"
      ],
      "execution_count": null,
      "outputs": []
    },
    {
      "cell_type": "markdown",
      "metadata": {
        "id": "aQynIdckRS3e"
      },
      "source": [
        "**Momentum Stochastic Gradient Descent**"
      ]
    },
    {
      "cell_type": "code",
      "metadata": {
        "id": "ldmGFbBSRSVZ"
      },
      "source": [
        "def momentum_stochastic_gradient_descent(loss_function, x, y, w): \n",
        "  global prev_gradient\n",
        "  val_ret = (gamma * prev_gradient) + batch_gradient_descent(loss_function, x, y, w)\n",
        "  prev_gradient = val_ret\n",
        "  return val_ret"
      ],
      "execution_count": null,
      "outputs": []
    },
    {
      "cell_type": "markdown",
      "metadata": {
        "id": "dqLSg9njgw_Q"
      },
      "source": [
        "**Adagrad Gradient Descent**"
      ]
    },
    {
      "cell_type": "code",
      "metadata": {
        "id": "I-g7dp6Eg0lN"
      },
      "source": [
        "def adagrad_gradient_descent(loss_function, x, y, w):\n",
        "    global diagGMatrix\n",
        "    index_rand = np.random.permutation(len(y))[0]\n",
        "    example_x = x[index_rand:index_rand+1,:]\n",
        "    example_y = y[index_rand:index_rand+1,:]\n",
        "    grad = loss_function(example_x, example_y, w)\n",
        "    diagGMatrix = diagGMatrix + grad*grad\n",
        "    val_ret = -alpha * grad / np.sqrt(diagGMatrix+e)\n",
        "    return val_ret"
      ],
      "execution_count": null,
      "outputs": []
    },
    {
      "cell_type": "markdown",
      "metadata": {
        "id": "IIIlJZmfwWKK"
      },
      "source": [
        "**Adadelta Gradient Descent**"
      ]
    },
    {
      "cell_type": "code",
      "metadata": {
        "id": "Wm6PX-JsyKi9"
      },
      "source": [
        "def adadelta_gradient_descent(loss_function, x, y, w):\n",
        "  global exp_val_diag, exp_val_delta, delta\n",
        "  grad = loss_function(x, y, w)\n",
        "  exp_val_diag = gamma * exp_val_diag + (1 - gamma) * grad * grad\n",
        "  exp_val_delta = gamma * exp_val_delta + (1 - gamma) * delta * delta\n",
        "  delta = - np.sqrt(exp_val_delta + e) / np.sqrt(exp_val_diag + e) * grad\n",
        "  return delta\n",
        "  "
      ],
      "execution_count": null,
      "outputs": []
    },
    {
      "cell_type": "markdown",
      "metadata": {
        "id": "JPvsgdE3zShx"
      },
      "source": [
        "**Adaptive Moment Estimation (Adam) Gradient Descent**"
      ]
    },
    {
      "cell_type": "code",
      "metadata": {
        "id": "BLNDYTlpynAG"
      },
      "source": [
        "def adam_gradient_descent(loss_function, x, y, w):\n",
        "  global first_moment, second_moment\n",
        "  grad = loss_function(x, y, w)\n",
        "  first_moment = beta1 * first_moment + (1 - beta1) * grad\n",
        "  second_moment = beta2 * second_moment + (1 - beta2) * grad * grad \n",
        "  hat_first_moment = first_moment / (1 - beta1)\n",
        "  hat_second_moment = second_moment / (1 - beta2)\n",
        "  return - alpha * hat_first_moment / (np.sqrt(hat_second_moment) + e) \n"
      ],
      "execution_count": null,
      "outputs": []
    },
    {
      "cell_type": "markdown",
      "metadata": {
        "id": "-NmW7mOwjdxz"
      },
      "source": [
        "**Parameters**"
      ]
    },
    {
      "cell_type": "code",
      "metadata": {
        "id": "0cZt-AhkjfiV"
      },
      "source": [
        "w = np.zeros(shape = (4, 1))\n",
        "alpha = 0.01  # learning rate\n",
        "epochs = 10**6 #4\n",
        "lambda_v = 0.00001 # tuning parameter, for regularization\n",
        "prev_gradient = 0 # for momemtun stochastic gradient descent\n",
        "gamma = 0.9 # for momemtun stochastic gradient descent\n",
        "diagGMatrix = np.zeros(shape = (len(w), 1)) # accumulative matrix with w*w, for adagrad gradient descent\n",
        "e = 1e-8 # smoothing term, for adagrad gradient descent\n",
        "exp_val_diag = np.zeros(shape = (len(w), 1)) # for adadelta gradient descent\n",
        "exp_val_delta = np.zeros(shape = (len(w), 1)) # for adadelta gradient descent\n",
        "delta = np.zeros(shape = (len(w), 1)) # for adadelta gradient descent\n",
        "first_moment = np.zeros(shape = (len(w), 1)) # for adan gradient descent\n",
        "second_moment = np.zeros(shape = (len(w), 1)) # for adan gradient descent\n",
        "beta1 = .9 # for adan gradient descent\n",
        "beta2 = .999 # for adan gradient descent"
      ],
      "execution_count": null,
      "outputs": []
    },
    {
      "cell_type": "code",
      "metadata": {
        "id": "sBJq7-gHDCFv"
      },
      "source": [
        "import time\n",
        "\n",
        "w = np.zeros(shape = (4, 1))\n",
        "\n",
        "list_error = []\n",
        "prev_gradient = 0 # for momemtun stochastic gradient descent\n",
        "xcopy = rescaled(x_train)\n",
        "exp_val_diag = np.zeros(shape = (len(w), 1)) #expected value of \n",
        "\n",
        "bef = time.time()\n",
        "i = 0\n",
        "while i <= epochs:\n",
        "  i += 1\n",
        "  #w = w + batch_gradient_descent(loss_function_mse, xcopy, y_train, w)\n",
        "  #w = w + stochastic_gradient_descent(loss_function_mse, xcopy, y_train, w)\n",
        "  #w = w + momentum_stochastic_gradient_descent(loss_function_mse, xcopy, y_train, w)\n",
        "  w = w + adagrad_gradient_descent(loss_function_mse, xcopy, y_train, w)\n",
        "  #w = w + adadelta_gradient_descent(loss_function_mse, xcopy, y_train, w)\n",
        "  #w = w + adam_gradient_descent(loss_function_mse, xcopy, y_train, w)\n",
        "  list_error.append(error_mse(xcopy, y_train, w))\n",
        "  \n",
        "  print(list_error[-1])\n",
        "  #print(w)\n",
        "  \n",
        "aft = time.time()\n",
        "print(\"Full time::\",aft - bef)"
      ],
      "execution_count": null,
      "outputs": []
    },
    {
      "cell_type": "markdown",
      "metadata": {
        "id": "KmijrFnoQ100"
      },
      "source": [
        "$$w_0 + w_1 * x^1+ w_1 * x^2+ w_3 * x^3$$\n"
      ]
    },
    {
      "cell_type": "markdown",
      "metadata": {
        "id": "4mJ0qiye5_Mf"
      },
      "source": [
        "**`Plotting Training DataSet`**"
      ]
    },
    {
      "cell_type": "code",
      "metadata": {
        "colab": {
          "base_uri": "https://localhost:8080/",
          "height": 282
        },
        "id": "4u2eyR9T5RZt",
        "outputId": "ad8f049c-616f-4354-ac9f-34866e362d01"
      },
      "source": [
        "yf_train = h(rescaled(x_train), w)\n",
        "#yt.shape, x.shape\n",
        "plt.scatter(x_train[:,1], y_train)\n",
        "plt.plot(x_train[:,1], yf_train)"
      ],
      "execution_count": null,
      "outputs": [
        {
          "output_type": "execute_result",
          "data": {
            "text/plain": [
              "[<matplotlib.lines.Line2D at 0x7feef8be9690>]"
            ]
          },
          "metadata": {
            "tags": []
          },
          "execution_count": 62
        },
        {
          "output_type": "display_data",
          "data": {
            "image/png": "[encoded data removed]",
            "text/plain": [
              "<Figure size 432x288 with 1 Axes>"
            ]
          },
          "metadata": {
            "tags": [],
            "needs_background": "light"
          }
        }
      ]
    },
    {
      "cell_type": "markdown",
      "metadata": {
        "id": "XR0tksp66N4n"
      },
      "source": [
        "**`Plotting Test DataSet`**"
      ]
    },
    {
      "cell_type": "code",
      "metadata": {
        "colab": {
          "base_uri": "https://localhost:8080/",
          "height": 282
        },
        "id": "v6wXmHgc6RdB",
        "outputId": "6a92b1e4-b612-46f3-f60b-cc6941f05490"
      },
      "source": [
        "yf_test = h(rescaled(x_test), w)\n",
        "#yt.shape, x.shape\n",
        "plt.scatter(x_test[:,1], y_test)\n",
        "plt.plot(x_test[:,1], yf_test)"
      ],
      "execution_count": null,
      "outputs": [
        {
          "output_type": "execute_result",
          "data": {
            "text/plain": [
              "[<matplotlib.lines.Line2D at 0x7feef8f70450>]"
            ]
          },
          "metadata": {
            "tags": []
          },
          "execution_count": 63
        },
        {
          "output_type": "display_data",
          "data": {
            "image/png": "[encoded data removed]",
            "text/plain": [
              "<Figure size 432x288 with 1 Axes>"
            ]
          },
          "metadata": {
            "tags": [],
            "needs_background": "light"
          }
        }
      ]
    },
    {
      "cell_type": "code",
      "metadata": {
        "colab": {
          "base_uri": "https://localhost:8080/",
          "height": 265
        },
        "id": "b-MecQMO4emP",
        "outputId": "058f8475-6dab-4894-bfc7-4e6359eefb99"
      },
      "source": [
        "list_error = np.array(list_error)\n",
        "#plt.plot(list_error[2124124:])\n",
        "plt.plot(list_error)\n",
        "plt.show()\n"
      ],
      "execution_count": null,
      "outputs": [
        {
          "output_type": "display_data",
          "data": {
            "image/png": "[encoded data removed]",
            "text/plain": [
              "<Figure size 432x288 with 1 Axes>"
            ]
          },
          "metadata": {
            "tags": [],
            "needs_background": "light"
          }
        }
      ]
    }
  ]
}