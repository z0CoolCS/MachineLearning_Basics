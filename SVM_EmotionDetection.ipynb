{
  "nbformat": 4,
  "nbformat_minor": 0,
  "metadata": {
    "colab": {
      "name": "SVM_Project2.ipynb",
      "provenance": [],
      "collapsed_sections": [],
      "toc_visible": true
    },
    "kernelspec": {
      "name": "python3",
      "display_name": "Python 3"
    },
    "language_info": {
      "name": "python"
    }
  },
  "cells": [
    {
      "cell_type": "markdown",
      "metadata": {
        "id": "alRNY9GeCZmg"
      },
      "source": [
        "Data comes from \n",
        "[here](https://drive.google.com/file/d/1-g5ifF2Vev47XkGX2QZ-Ix57Ku4aPkXR/view?usp=sharing)"
      ]
    },
    {
      "cell_type": "code",
      "metadata": {
        "id": "GJdSWzqBqNkK"
      },
      "source": [
        "import numpy as np\n",
        "import matplotlib.pyplot as plt\n",
        "import matplotlib.image as mpimg \n",
        "import pickle\n",
        "from sklearn.svm import SVC\n",
        "from sklearn.metrics import classification_report, confusion_matrix\n",
        "from sklearn.model_selection import KFold\n",
        "from sklearn.utils import resample\n",
        "from sklearn.model_selection import train_test_split\n",
        "import seaborn as sn"
      ],
      "execution_count": null,
      "outputs": []
    },
    {
      "cell_type": "markdown",
      "metadata": {
        "id": "7rNwJeb8GVuS"
      },
      "source": [
        "## *Read data from pickle files*"
      ]
    },
    {
      "cell_type": "code",
      "metadata": {
        "id": "Kd-DzkajVzf7"
      },
      "source": [
        "path_X = '/content/drive/MyDrive/Colab Notebooks/UTEC - IA/data/face_dataset/X.pickle'\n",
        "path_y = '/content/drive/MyDrive/Colab Notebooks/UTEC - IA/data/face_dataset/y.pickle'\n",
        "pickle_Xin = open(path_X, \"rb\")\n",
        "pickle_yin = open(path_y, \"rb\")\n",
        "X = pickle.load(pickle_Xin)\n",
        "y = pickle.load(pickle_yin)"
      ],
      "execution_count": null,
      "outputs": []
    },
    {
      "cell_type": "markdown",
      "metadata": {
        "id": "6CEA-mLrGcRc"
      },
      "source": [
        "## *Build training and test data sets with the entire Data*"
      ]
    },
    {
      "cell_type": "code",
      "metadata": {
        "id": "LFHBW35Avlav"
      },
      "source": [
        "np.random.seed(100)\n",
        "X_train, X_test, y_train, y_test = train_test_split(X[0], y[0], test_size = 0.20)\n",
        "for i in range(1, len(X)):\n",
        "  X_train_i, X_test_i, y_train_i, y_test_i = train_test_split(X[i], y[i], test_size = 0.20)\n",
        "  X_train = np.concatenate([X_train, X_train_i])\n",
        "  y_train = np.concatenate([y_train, y_train_i])\n",
        "  X_test = np.concatenate([X_test, X_test_i])\n",
        "  y_test = np.concatenate([y_test, y_test_i])"
      ],
      "execution_count": null,
      "outputs": []
    },
    {
      "cell_type": "markdown",
      "metadata": {
        "id": "fsPP8W_JRM3n"
      },
      "source": [
        "## *KFold Cross Validation*"
      ]
    },
    {
      "cell_type": "markdown",
      "metadata": {
        "id": "aeQJ2qqHC3kG"
      },
      "source": [
        "### *Linear Model*"
      ]
    },
    {
      "cell_type": "code",
      "metadata": {
        "colab": {
          "base_uri": "https://localhost:8080/"
        },
        "id": "FK0iv13oum0J",
        "outputId": "9fceac88-c338-42df-db55-f9ac4d33bd26"
      },
      "source": [
        "accuracy_linear = []\n",
        "# evaluation of linear model between different k values\n",
        "for i in range(2, 20):\n",
        "  kf = KFold(n_splits = i)\n",
        "  local_accuracy = 0\n",
        "  for train_index, test_index in kf.split(X_train):\n",
        "    # getting training data from training set for evaluate linear model\n",
        "    X_train_train = X_train[train_index]\n",
        "    y_train_train = y_train[train_index]\n",
        "    # getting test data from training set for evaluate linear model\n",
        "    X_train_test = X_train[test_index]\n",
        "    y_train_test = y_train[test_index]\n",
        "    # creating linear model\n",
        "    svc_model = SVC(kernel='linear')\n",
        "    # fitting linear model\n",
        "    svc_model.fit(X_train_train, y_train_train)\n",
        "    # predicting with test data\n",
        "    y_pred = svc_model.predict(X_train_test)\n",
        "    \n",
        "    # getting accuracy for k values\n",
        "    cm = confusion_matrix(y_train_test,y_pred)\n",
        "    local_accuracy_i = sum(np.diag(cm)) / y_train_test.shape[0]\n",
        "    local_accuracy += local_accuracy_i\n",
        "  local_accuracy /= i\n",
        "  print(f'K values: {i}, local accuracy: {local_accuracy}')\n",
        "  accuracy_linear.append(local_accuracy)\n",
        "print(f'Average accuracy value for linear model :{sum(accuracy_linear) / len(accuracy_linear)}') "
      ],
      "execution_count": null,
      "outputs": [
        {
          "output_type": "stream",
          "text": [
            "K values: 2, local accuracy: 0.0676868573516363\n",
            "K values: 3, local accuracy: 0.3780332056194125\n",
            "K values: 4, local accuracy: 0.3193354264782836\n",
            "K values: 5, local accuracy: 0.536109750122489\n",
            "K values: 6, local accuracy: 0.7072812683499706\n",
            "K values: 7, local accuracy: 0.6760204081632654\n",
            "K values: 8, local accuracy: 0.7436224489795917\n",
            "K values: 9, local accuracy: 0.7266922094508301\n",
            "K values: 10, local accuracy: 0.8512658227848101\n",
            "K values: 11, local accuracy: 0.7675878503343292\n",
            "K values: 12, local accuracy: 0.9158702408702409\n",
            "K values: 13, local accuracy: 0.8504833963850357\n",
            "K values: 14, local accuracy: 0.8979591836734693\n",
            "K values: 15, local accuracy: 0.8601838413159169\n",
            "K values: 16, local accuracy: 0.8903061224489796\n",
            "K values: 17, local accuracy: 0.9182129836208304\n",
            "K values: 18, local accuracy: 0.9380432229269439\n",
            "K values: 19, local accuracy: 0.918301852191454\n",
            "Average accuracy value for linear model :0.7201664495037493\n"
          ],
          "name": "stdout"
        }
      ]
    },
    {
      "cell_type": "code",
      "metadata": {
        "colab": {
          "base_uri": "https://localhost:8080/",
          "height": 295
        },
        "id": "4nqigcHMKeo8",
        "outputId": "6fcebebf-edc0-4be0-dad6-a39ec5c2bde9"
      },
      "source": [
        "ind_max_lin = accuracy_linear.index(max(accuracy_linear)) + 2\n",
        "plt.plot(np.arange(2, 20), accuracy_linear, 'o-')\n",
        "plt.xlabel(\"K value\")\n",
        "plt.ylabel(\"Accuracy\")\n",
        "plt.vlines(ind_max_lin, 0, max(accuracy_linear), linestyles='dashed', colors='red', label=\"Highest Accuracy\")\n",
        "plt.text(ind_max_lin + .2, max(accuracy_linear), round(max(accuracy_linear), 3))\n",
        "plt.text(ind_max_lin + .2, 0, 'k='+str(ind_max_lin))\n",
        "plt.legend(bbox_to_anchor=(1.05, 1), loc='upper left', borderaxespad=0.)\n",
        "plt.title(\"Accuracy by k Value in Linear Model\")\n",
        "plt.show()"
      ],
      "execution_count": null,
      "outputs": [
        {
          "output_type": "display_data",
          "data": {
            "image/png": "[encoded data removed]",
            "text/plain": [
              "<Figure size 432x288 with 1 Axes>"
            ]
          },
          "metadata": {
            "tags": [],
            "needs_background": "light"
          }
        }
      ]
    },
    {
      "cell_type": "markdown",
      "metadata": {
        "id": "thC5w7-xMW9q"
      },
      "source": [
        "### *Polinomial Model*"
      ]
    },
    {
      "cell_type": "code",
      "metadata": {
        "colab": {
          "base_uri": "https://localhost:8080/"
        },
        "id": "u-9ytgyRMcmU",
        "outputId": "d16630d7-7749-4084-e416-011c7bd0ea2d"
      },
      "source": [
        "accuracy_polynomial = []\n",
        "# evaluation of polynomial model between different k values\n",
        "for grade in range(2, 10):\n",
        "  local_accuracy_grade = 0\n",
        "  print(f'Polynomial grade: {grade}')\n",
        "  for i in range(2, 20):\n",
        "    kf = KFold(n_splits = i)\n",
        "    local_accuracy = 0\n",
        "    for train_index, test_index in kf.split(X_train):\n",
        "      # getting training data from training set for evaluate polynomial model\n",
        "      X_train_train = X_train[train_index]\n",
        "      y_train_train = y_train[train_index]\n",
        "      # getting test data from training set for evaluate polynomial model\n",
        "      X_train_test = X_train[test_index]\n",
        "      y_train_test = y_train[test_index]\n",
        "      # creating polynomial model\n",
        "      svc_model = SVC(kernel='poly', degree = grade)\n",
        "      # fitting polynomial model\n",
        "      svc_model.fit(X_train_train, y_train_train)\n",
        "      # predicting with test data\n",
        "      y_pred = svc_model.predict(X_train_test)\n",
        "      \n",
        "      # getting accuracy for k values\n",
        "      cm = confusion_matrix(y_train_test,y_pred)\n",
        "      local_accuracy_k = sum(np.diag(cm)) / y_train_test.shape[0]\n",
        "      local_accuracy += local_accuracy_k\n",
        "    local_accuracy /= i\n",
        "    print(f'K values: {i}, local accuracy: {local_accuracy}')\n",
        "    local_accuracy_grade += local_accuracy\n",
        "  local_accuracy_grade /= 18\n",
        "  accuracy_polynomial.append(local_accuracy_grade)\n",
        "print(f'Average accuracy value for Polynomial model :{sum(accuracy_polynomial) / len(accuracy_polynomial)}') "
      ],
      "execution_count": null,
      "outputs": [
        {
          "output_type": "stream",
          "text": [
            "Polynomial grade: 2\n",
            "K values: 2, local accuracy: 0.0574599404979383\n",
            "K values: 3, local accuracy: 0.33205619412515963\n",
            "K values: 4, local accuracy: 0.2643772893772894\n",
            "K values: 5, local accuracy: 0.4798709782786216\n",
            "K values: 6, local accuracy: 0.6293990996281073\n",
            "K values: 7, local accuracy: 0.6095559845559846\n",
            "K values: 8, local accuracy: 0.6594124763307384\n",
            "K values: 9, local accuracy: 0.6628352490421457\n",
            "K values: 10, local accuracy: 0.7747646867900032\n",
            "K values: 11, local accuracy: 0.7027493242281974\n",
            "K values: 12, local accuracy: 0.8203574203574204\n",
            "K values: 13, local accuracy: 0.772929802437999\n",
            "K values: 14, local accuracy: 0.8048469387755102\n",
            "K values: 15, local accuracy: 0.7772859216255442\n",
            "K values: 16, local accuracy: 0.8137755102040816\n",
            "K values: 17, local accuracy: 0.8314197094193829\n",
            "K values: 18, local accuracy: 0.8417312661498708\n",
            "K values: 19, local accuracy: 0.8407604376795649\n",
            "Polynomial grade: 3\n",
            "K values: 2, local accuracy: 0.06128973328461819\n",
            "K values: 3, local accuracy: 0.33205619412515963\n",
            "K values: 4, local accuracy: 0.2861067503924647\n",
            "K values: 5, local accuracy: 0.5015025314388372\n",
            "K values: 6, local accuracy: 0.6165688001565863\n",
            "K values: 7, local accuracy: 0.6209896120610406\n",
            "K values: 8, local accuracy: 0.673403639806438\n",
            "K values: 9, local accuracy: 0.6922094508301404\n",
            "K values: 10, local accuracy: 0.7886887374229147\n",
            "K values: 11, local accuracy: 0.7114632237871674\n",
            "K values: 12, local accuracy: 0.8494755244755247\n",
            "K values: 13, local accuracy: 0.807124842370744\n",
            "K values: 14, local accuracy: 0.8392625231910946\n",
            "K values: 15, local accuracy: 0.8079342041606192\n",
            "K values: 16, local accuracy: 0.8379836309523809\n",
            "K values: 17, local accuracy: 0.8683680687816291\n",
            "K values: 18, local accuracy: 0.8743540051679586\n",
            "K values: 19, local accuracy: 0.8800660187053\n",
            "Polynomial grade: 4\n",
            "K values: 2, local accuracy: 0.05874197505088992\n",
            "K values: 3, local accuracy: 0.31162196679438064\n",
            "K values: 4, local accuracy: 0.3002289377289378\n",
            "K values: 5, local accuracy: 0.4809243834721542\n",
            "K values: 6, local accuracy: 0.5884028185554904\n",
            "K values: 7, local accuracy: 0.6274131274131275\n",
            "K values: 8, local accuracy: 0.660635388175889\n",
            "K values: 9, local accuracy: 0.6883780332056194\n",
            "K values: 10, local accuracy: 0.7822622525154171\n",
            "K values: 11, local accuracy: 0.699921752738654\n",
            "K values: 12, local accuracy: 0.8456293706293708\n",
            "K values: 13, local accuracy: 0.8044766708701137\n",
            "K values: 14, local accuracy: 0.8175092764378479\n",
            "K values: 15, local accuracy: 0.8078374455732946\n",
            "K values: 16, local accuracy: 0.832828443877551\n",
            "K values: 17, local accuracy: 0.8633073951134571\n",
            "K values: 18, local accuracy: 0.8753523608174771\n",
            "K values: 19, local accuracy: 0.8620636958249281\n",
            "Polynomial grade: 5\n",
            "K values: 2, local accuracy: 0.05619095464272666\n",
            "K values: 3, local accuracy: 0.3065134099616858\n",
            "K values: 4, local accuracy: 0.29131344845630563\n",
            "K values: 5, local accuracy: 0.4540013065490773\n",
            "K values: 6, local accuracy: 0.5769132902720688\n",
            "K values: 7, local accuracy: 0.6159105534105535\n",
            "K values: 8, local accuracy: 0.6299968440984641\n",
            "K values: 9, local accuracy: 0.6730523627075351\n",
            "K values: 10, local accuracy: 0.7656929568321973\n",
            "K values: 11, local accuracy: 0.6692452695973822\n",
            "K values: 12, local accuracy: 0.8264763014763017\n",
            "K values: 13, local accuracy: 0.7942412778478352\n",
            "K values: 14, local accuracy: 0.799582560296846\n",
            "K values: 15, local accuracy: 0.7860909530720851\n",
            "K values: 16, local accuracy: 0.8161670918367345\n",
            "K values: 17, local accuracy: 0.8364259672416607\n",
            "K values: 18, local accuracy: 0.8612579281183932\n",
            "K values: 19, local accuracy: 0.8325692279479187\n",
            "Polynomial grade: 6\n",
            "K values: 2, local accuracy: 0.0574632026723733\n",
            "K values: 3, local accuracy: 0.2822477650063857\n",
            "K values: 4, local accuracy: 0.27986002093144946\n",
            "K values: 5, local accuracy: 0.41303282704556593\n",
            "K values: 6, local accuracy: 0.5474848306909376\n",
            "K values: 7, local accuracy: 0.5890558926273212\n",
            "K values: 8, local accuracy: 0.5929413002314328\n",
            "K values: 9, local accuracy: 0.6411238825031929\n",
            "K values: 10, local accuracy: 0.7260791950665368\n",
            "K values: 11, local accuracy: 0.6524754588134869\n",
            "K values: 12, local accuracy: 0.796989121989122\n",
            "K values: 13, local accuracy: 0.7724464060529636\n",
            "K values: 14, local accuracy: 0.7829313543599258\n",
            "K values: 15, local accuracy: 0.7770924044508951\n",
            "K values: 16, local accuracy: 0.791905824829932\n",
            "K values: 17, local accuracy: 0.8108777275942755\n",
            "K values: 18, local accuracy: 0.8356530420483907\n",
            "K values: 19, local accuracy: 0.8133137722354666\n",
            "Polynomial grade: 7\n",
            "K values: 2, local accuracy: 0.05491218226421003\n",
            "K values: 3, local accuracy: 0.2618135376756066\n",
            "K values: 4, local accuracy: 0.2709445316588174\n",
            "K values: 5, local accuracy: 0.39256083619140947\n",
            "K values: 6, local accuracy: 0.4989234683891172\n",
            "K values: 7, local accuracy: 0.5494116565545136\n",
            "K values: 8, local accuracy: 0.5610140963601935\n",
            "K values: 9, local accuracy: 0.6053639846743296\n",
            "K values: 10, local accuracy: 0.6954073352807529\n",
            "K values: 11, local accuracy: 0.6231149523403045\n",
            "K values: 12, local accuracy: 0.7548174048174049\n",
            "K values: 13, local accuracy: 0.7495166036149642\n",
            "K values: 14, local accuracy: 0.7395640074211504\n",
            "K values: 15, local accuracy: 0.7374697629414612\n",
            "K values: 16, local accuracy: 0.7548628826530612\n",
            "K values: 17, local accuracy: 0.768705447026174\n",
            "K values: 18, local accuracy: 0.7885835095137419\n",
            "K values: 19, local accuracy: 0.7825967357417936\n",
            "Polynomial grade: 8\n",
            "K values: 2, local accuracy: 0.054908920089775035\n",
            "K values: 3, local accuracy: 0.2567049808429119\n",
            "K values: 4, local accuracy: 0.26841967556253266\n",
            "K values: 5, local accuracy: 0.36567042299526376\n",
            "K values: 6, local accuracy: 0.47330201605010763\n",
            "K values: 7, local accuracy: 0.5199370288656002\n",
            "K values: 8, local accuracy: 0.5264964233115926\n",
            "K values: 9, local accuracy: 0.5721583652618136\n",
            "K values: 10, local accuracy: 0.6635021097046413\n",
            "K values: 11, local accuracy: 0.5987871674491393\n",
            "K values: 12, local accuracy: 0.7241064491064492\n",
            "K values: 13, local accuracy: 0.7341109709962169\n",
            "K values: 14, local accuracy: 0.7152597402597403\n",
            "K values: 15, local accuracy: 0.7119013062409288\n",
            "K values: 16, local accuracy: 0.7318239795918366\n",
            "K values: 17, local accuracy: 0.7380421178647223\n",
            "K values: 18, local accuracy: 0.7579281183932345\n",
            "K values: 19, local accuracy: 0.7557307903906108\n",
            "Polynomial grade: 9\n",
            "K values: 2, local accuracy: 0.054908920089775035\n",
            "K values: 3, local accuracy: 0.2554278416347382\n",
            "K values: 4, local accuracy: 0.2761250654107797\n",
            "K values: 5, local accuracy: 0.350302139474114\n",
            "K values: 6, local accuracy: 0.46302603249168134\n",
            "K values: 7, local accuracy: 0.4968399521970951\n",
            "K values: 8, local accuracy: 0.49834315169366716\n",
            "K values: 9, local accuracy: 0.561941251596424\n",
            "K values: 10, local accuracy: 0.6391755923401493\n",
            "K values: 11, local accuracy: 0.5744593825579741\n",
            "K values: 12, local accuracy: 0.6997863247863249\n",
            "K values: 13, local accuracy: 0.7008196721311475\n",
            "K values: 14, local accuracy: 0.6807745825602967\n",
            "K values: 15, local accuracy: 0.6812046444121916\n",
            "K values: 16, local accuracy: 0.7011585884353742\n",
            "K values: 17, local accuracy: 0.7048484518691843\n",
            "K values: 18, local accuracy: 0.7349659384543104\n",
            "K values: 19, local accuracy: 0.731462803349838\n",
            "Average accuracy value for Polynomial model :0.6177120180729541\n"
          ],
          "name": "stdout"
        }
      ]
    },
    {
      "cell_type": "code",
      "metadata": {
        "colab": {
          "base_uri": "https://localhost:8080/",
          "height": 295
        },
        "id": "5Avkbw10NDpT",
        "outputId": "f2f6f4be-8d80-4393-ca64-51f58631ca9a"
      },
      "source": [
        "ind_max_poly = accuracy_polynomial.index(max(accuracy_polynomial)) + 2\n",
        "plt.plot(np.arange(2, 10), accuracy_polynomial, 'o-')\n",
        "plt.xlabel(\"Polynomial Grade\")\n",
        "plt.ylabel(\"Accuracy\")\n",
        "plt.vlines(ind_max_poly, 0, max(accuracy_polynomial), linestyles='dashed', colors='red', label=\"Highest Accuracy\")\n",
        "plt.text(ind_max_poly + .2, max(accuracy_polynomial), round(max(accuracy_polynomial), 3))\n",
        "plt.text(ind_max_poly + .2, 0, 'k='+str(ind_max_poly))\n",
        "plt.legend(bbox_to_anchor=(1.05, 1), loc='upper left', borderaxespad=0.)\n",
        "plt.title(\"Accuracy by k Value in Polynomial Model\")\n",
        "plt.show()"
      ],
      "execution_count": null,
      "outputs": [
        {
          "output_type": "display_data",
          "data": {
            "image/png": "[encoded data removed]",
            "text/plain": [
              "<Figure size 432x288 with 1 Axes>"
            ]
          },
          "metadata": {
            "tags": [],
            "needs_background": "light"
          }
        }
      ]
    },
    {
      "cell_type": "markdown",
      "metadata": {
        "id": "M2O7nDYcPpHq"
      },
      "source": [
        "### *RBF Model*"
      ]
    },
    {
      "cell_type": "code",
      "metadata": {
        "colab": {
          "base_uri": "https://localhost:8080/"
        },
        "id": "Jqe3agTwRtB-",
        "outputId": "853b9d06-0333-438f-901e-a0e91e24395b"
      },
      "source": [
        "accuracy_rbf = []\n",
        "# evaluation of rbf model between different k values\n",
        "for i in range(2, 20):\n",
        "  kf = KFold(n_splits = i)\n",
        "  local_accuracy = 0\n",
        "  for train_index, test_index in kf.split(X_train):\n",
        "    # getting training data from training set for evaluate rbf model\n",
        "    X_train_train = X_train[train_index]\n",
        "    y_train_train = y_train[train_index]\n",
        "    # getting test data from training set for evaluate rbf model\n",
        "    X_train_test = X_train[test_index]\n",
        "    y_train_test = y_train[test_index]\n",
        "    # creating rbf model\n",
        "    svc_model = SVC(kernel='rbf')\n",
        "    # fitting rbf model\n",
        "    svc_model.fit(X_train_train, y_train_train)\n",
        "    # predicting with test data\n",
        "    y_pred = svc_model.predict(X_train_test)\n",
        "    \n",
        "    # getting accuracy for k values\n",
        "    cm = confusion_matrix(y_train_test,y_pred)\n",
        "    local_accuracy_i = sum(np.diag(cm)) / y_train_test.shape[0]\n",
        "    local_accuracy += local_accuracy_i\n",
        "  local_accuracy /= i\n",
        "  print(f'K values: {i}, local accuracy: {local_accuracy}')\n",
        "  accuracy_rbf.append(local_accuracy)\n",
        "print(f'Average accuracy value for rbf model :{sum(accuracy_rbf) / len(accuracy_rbf)}') "
      ],
      "execution_count": null,
      "outputs": [
        {
          "output_type": "stream",
          "text": [
            "K values: 2, local accuracy: 0.01660773004854116\n",
            "K values: 3, local accuracy: 0.27969348659003834\n",
            "K values: 4, local accuracy: 0.11989795918367346\n",
            "K values: 5, local accuracy: 0.39182590233545644\n",
            "K values: 6, local accuracy: 0.45349383440986496\n",
            "K values: 7, local accuracy: 0.5253378378378378\n",
            "K values: 8, local accuracy: 0.5305464969492951\n",
            "K values: 9, local accuracy: 0.5913154533844189\n",
            "K values: 10, local accuracy: 0.6065076273937035\n",
            "K values: 11, local accuracy: 0.5987871674491392\n",
            "K values: 12, local accuracy: 0.6421134421134421\n",
            "K values: 13, local accuracy: 0.6497898276586801\n",
            "K values: 14, local accuracy: 0.6530380333951763\n",
            "K values: 15, local accuracy: 0.641170778906628\n",
            "K values: 16, local accuracy: 0.6759938350340136\n",
            "K values: 17, local accuracy: 0.6912172824726559\n",
            "K values: 18, local accuracy: 0.7099189570119803\n",
            "K values: 19, local accuracy: 0.708631334433645\n",
            "Average accuracy value for rbf model :0.5269937214782329\n"
          ],
          "name": "stdout"
        }
      ]
    },
    {
      "cell_type": "code",
      "metadata": {
        "colab": {
          "base_uri": "https://localhost:8080/",
          "height": 295
        },
        "id": "y978XBifR2Fh",
        "outputId": "7cbe3b1b-fb4f-44ff-c3be-d294c1a707a9"
      },
      "source": [
        "ind_max_rbf = accuracy_rbf.index(max(accuracy_rbf)) + 2\n",
        "plt.plot(np.arange(2, 20, 1), accuracy_rbf, 'o-')\n",
        "plt.xlabel(\"K value\")\n",
        "plt.ylabel(\"Accuracy\")\n",
        "plt.vlines(ind_max_rbf, 0, max(accuracy_rbf), linestyles='dashed', colors='red', label=\"Highest Accuracy\")\n",
        "plt.text(ind_max_rbf + .2, max(accuracy_rbf), round(max(accuracy_rbf), 3))\n",
        "plt.text(ind_max_rbf + .2, 0, 'k='+str(ind_max_rbf))\n",
        "plt.legend(bbox_to_anchor=(1.05, 1), loc='upper left', borderaxespad=0.)\n",
        "plt.title(\"Accuracy by k Value in RBF Model\")\n",
        "plt.show()"
      ],
      "execution_count": null,
      "outputs": [
        {
          "output_type": "display_data",
          "data": {
            "image/png": "[encoded data removed]",
            "text/plain": [
              "<Figure size 432x288 with 1 Axes>"
            ]
          },
          "metadata": {
            "tags": [],
            "needs_background": "light"
          }
        }
      ]
    },
    {
      "cell_type": "markdown",
      "metadata": {
        "id": "Y2yn6Yp0TZfY"
      },
      "source": [
        "### *Sigmoid Model*"
      ]
    },
    {
      "cell_type": "code",
      "metadata": {
        "colab": {
          "base_uri": "https://localhost:8080/"
        },
        "id": "OPE_QkozTdAG",
        "outputId": "61c2f4af-4cd3-4845-d723-f8c4b8e88d27"
      },
      "source": [
        "accuracy_sigmoid = []\n",
        "# evaluation of sigmoid model between different k values\n",
        "for i in range(2, 20):\n",
        "  kf = KFold(n_splits = i)\n",
        "  local_accuracy = 0\n",
        "  for train_index, test_index in kf.split(X_train):\n",
        "    # getting training data from training set for evaluate sigmoid model\n",
        "    X_train_train = X_train[train_index]\n",
        "    y_train_train = y_train[train_index]\n",
        "    # getting test data from training set for evaluate sigmoid model\n",
        "    X_train_test = X_train[test_index]\n",
        "    y_train_test = y_train[test_index]\n",
        "    # creating sigmoid model\n",
        "    svc_model = SVC(kernel='sigmoid')\n",
        "    # fitting sigmoid model\n",
        "    svc_model.fit(X_train_train, y_train_train)\n",
        "    # predicting with test data\n",
        "    y_pred = svc_model.predict(X_train_test)\n",
        "    \n",
        "    # getting accuracy for k values\n",
        "    cm = confusion_matrix(y_train_test,y_pred)\n",
        "    local_accuracy_i = sum(np.diag(cm)) / y_train_test.shape[0]\n",
        "    local_accuracy += local_accuracy_i\n",
        "  local_accuracy /= i\n",
        "  print(f'K values: {i}, local accuracy: {local_accuracy}')\n",
        "  accuracy_sigmoid.append(local_accuracy)\n",
        "#accuracy_sigmoid = np.array(accuracy_sigmoid)\n",
        "print(f'Average accuracy value for sigmoid model :{sum(accuracy_sigmoid) / len(accuracy_sigmoid)}') "
      ],
      "execution_count": null,
      "outputs": [
        {
          "output_type": "stream",
          "text": [
            "K values: 2, local accuracy: 0.0012755102040816326\n",
            "K values: 3, local accuracy: 0.006385696040868454\n",
            "K values: 4, local accuracy: 0.00510204081632653\n",
            "K values: 5, local accuracy: 0.007692307692307693\n",
            "K values: 6, local accuracy: 0.012810726169504795\n",
            "K values: 7, local accuracy: 0.007653061224489796\n",
            "K values: 8, local accuracy: 0.02423469387755102\n",
            "K values: 9, local accuracy: 0.03831417624521073\n",
            "K values: 10, local accuracy: 0.04094449853943525\n",
            "K values: 11, local accuracy: 0.07538412291933418\n",
            "K values: 12, local accuracy: 0.032031857031857035\n",
            "K values: 13, local accuracy: 0.10769230769230768\n",
            "K values: 14, local accuracy: 0.13824211502782932\n",
            "K values: 15, local accuracy: 0.08333333333333334\n",
            "K values: 16, local accuracy: 0.11870216836734693\n",
            "K values: 17, local accuracy: 0.04859335038363171\n",
            "K values: 18, local accuracy: 0.056730091613812546\n",
            "K values: 19, local accuracy: 0.035943517329910135\n",
            "Average accuracy value for sigmoid model :0.04672586525050772\n"
          ],
          "name": "stdout"
        }
      ]
    },
    {
      "cell_type": "code",
      "metadata": {
        "colab": {
          "base_uri": "https://localhost:8080/",
          "height": 295
        },
        "id": "JNG6NgE4Ti76",
        "outputId": "42b29dd8-1a8a-4144-b522-f065bb818d0a"
      },
      "source": [
        "ind_max_sig = accuracy_sigmoid.index(max(accuracy_sigmoid)) + 2\n",
        "plt.plot(np.arange(2, 20, 1), accuracy_sigmoid, 'o-')\n",
        "plt.xlabel(\"K value\")\n",
        "plt.vlines(ind_max_sig, 0, max(accuracy_sigmoid), linestyles='dashed', colors='red', label=\"Highest Accuracy\")\n",
        "plt.text(ind_max_sig + .2, max(accuracy_sigmoid), round(max(accuracy_sigmoid), 3))\n",
        "plt.text(ind_max_sig + .2, 0, 'k='+str(ind_max_sig))\n",
        "plt.ylabel(\"Accuracy\")\n",
        "plt.title(\"Accuracy by k Value in Sigmoid Model\")\n",
        "plt.legend(bbox_to_anchor=(1.05, 1), loc='upper left', borderaxespad=0.)\n",
        "plt.show()"
      ],
      "execution_count": null,
      "outputs": [
        {
          "output_type": "display_data",
          "data": {
            "image/png": "[encoded data removed]",
            "text/plain": [
              "<Figure size 432x288 with 1 Axes>"
            ]
          },
          "metadata": {
            "tags": [],
            "needs_background": "light"
          }
        }
      ]
    },
    {
      "cell_type": "markdown",
      "metadata": {
        "id": "Q_bcSwlLRWIp"
      },
      "source": [
        "## *Bootstrap Validation*"
      ]
    },
    {
      "cell_type": "markdown",
      "metadata": {
        "id": "TO0SA5krl0iy"
      },
      "source": [
        "### *Linear Model*"
      ]
    },
    {
      "cell_type": "code",
      "metadata": {
        "colab": {
          "base_uri": "https://localhost:8080/"
        },
        "id": "scvOzbuUJ_oS",
        "outputId": "4a66d676-99bb-4759-f808-334e6fba313c"
      },
      "source": [
        "np.random.seed(100)\n",
        "accuracy_lm_bootstrap = []\n",
        "t = 10\n",
        "n_samples_train = int(X_train.shape[0] * 0.8)\n",
        "for i in range(t):\n",
        "  index = np.arange(0, X_train.shape[0])\n",
        "  train_index = resample(index, n_samples=n_samples_train, replace=True, random_state=i)\n",
        "  test_index = np.array(list(set(index) - set(np.unique(train_index))))\n",
        "  X_train_train = X_train[train_index]\n",
        "  y_train_train = y_train[train_index]\n",
        "  # getting test data from training set for evaluate linear model\n",
        "  X_train_test = X_train[test_index]\n",
        "  y_train_test = y_train[test_index]\n",
        "  # creating linear model\n",
        "  svc_model = SVC(kernel='linear')\n",
        "  # fitting linear model\n",
        "  svc_model.fit(X_train_train, y_train_train)\n",
        "  # predicting with test data\n",
        "  y_pred = svc_model.predict(X_train_test)\n",
        "    \n",
        "  # getting accuracy for k values\n",
        "  cm = confusion_matrix(y_train_test,y_pred)\n",
        "  local_accuracy_i = sum(np.diag(cm)) / y_train_test.shape[0]\n",
        "  accuracy_lm_bootstrap.append(local_accuracy_i) \n",
        "  print(f'Random state:: {i}, local accuracy: {local_accuracy_i}')\n",
        "print(f'Average accuracy value for linear model :{sum(accuracy_lm_bootstrap) / len(accuracy_lm_bootstrap)}') "
      ],
      "execution_count": null,
      "outputs": [
        {
          "output_type": "stream",
          "text": [
            "Random state:: 0, local accuracy: 0.9224137931034483\n",
            "Random state:: 1, local accuracy: 0.9017341040462428\n",
            "Random state:: 2, local accuracy: 0.8833819241982507\n",
            "Random state:: 3, local accuracy: 0.8904494382022472\n",
            "Random state:: 4, local accuracy: 0.9186046511627907\n",
            "Random state:: 5, local accuracy: 0.9620991253644315\n",
            "Random state:: 6, local accuracy: 0.9346590909090909\n",
            "Random state:: 7, local accuracy: 0.9248554913294798\n",
            "Random state:: 8, local accuracy: 0.9568965517241379\n",
            "Random state:: 9, local accuracy: 0.8966480446927374\n",
            "Average accuracy value for linear model :0.9191742214732856\n"
          ],
          "name": "stdout"
        }
      ]
    },
    {
      "cell_type": "code",
      "metadata": {
        "colab": {
          "base_uri": "https://localhost:8080/",
          "height": 295
        },
        "id": "EXhUQVZhm0mZ",
        "outputId": "2c698951-f036-46b1-b888-ac15d67b3afe"
      },
      "source": [
        "ind_max_lin_boot = accuracy_lm_bootstrap.index(max(accuracy_lm_bootstrap))\n",
        "plt.plot(np.arange(0, 10), accuracy_lm_bootstrap, 'o-')\n",
        "plt.xlabel(\"Iteration\")\n",
        "plt.ylabel(\"Accuracy\")\n",
        "plt.vlines(ind_max_lin_boot, 0, max(accuracy_lm_bootstrap), linestyles='dashed', colors='red', label=\"Highest Accuracy\")\n",
        "plt.text(ind_max_lin_boot + .2, max(accuracy_lm_bootstrap), round(max(accuracy_lm_bootstrap), 3))\n",
        "plt.text(ind_max_lin_boot + .2, 0.81, 't='+str(ind_max_lin_boot))\n",
        "plt.legend(bbox_to_anchor=(1.05, 1), loc='upper left', borderaxespad=0.)\n",
        "plt.title(\"Accuracy in Linear Model with Bootstrap\")\n",
        "plt.ylim(.8,1)\n",
        "plt.show()"
      ],
      "execution_count": null,
      "outputs": [
        {
          "output_type": "display_data",
          "data": {
            "image/png": "[encoded data removed]",
            "text/plain": [
              "<Figure size 432x288 with 1 Axes>"
            ]
          },
          "metadata": {
            "tags": [],
            "needs_background": "light"
          }
        }
      ]
    },
    {
      "cell_type": "markdown",
      "metadata": {
        "id": "I1RzrOY7nhdf"
      },
      "source": [
        "### *RBF Model*"
      ]
    },
    {
      "cell_type": "code",
      "metadata": {
        "colab": {
          "base_uri": "https://localhost:8080/"
        },
        "id": "HPh-v--Snj8e",
        "outputId": "a91c1fb1-f407-4536-8512-23fc52d09586"
      },
      "source": [
        "np.random.seed(100)\n",
        "accuracy_rbf_bootstrap = []\n",
        "t = 10\n",
        "n_samples_train = int(X_train.shape[0] * 0.8)\n",
        "for i in range(t):\n",
        "  index = np.arange(0, X_train.shape[0])\n",
        "  train_index = resample(index, n_samples=n_samples_train, replace=True, random_state=i)\n",
        "  test_index = np.array(list(set(index) - set(np.unique(train_index))))\n",
        "  X_train_train = X_train[train_index]\n",
        "  y_train_train = y_train[train_index]\n",
        "  # getting test data from training set for evaluate rbf model\n",
        "  X_train_test = X_train[test_index]\n",
        "  y_train_test = y_train[test_index]\n",
        "  # creating rbf model\n",
        "  svc_model = SVC(kernel='rbf')\n",
        "  # fitting rbf model\n",
        "  svc_model.fit(X_train_train, y_train_train)\n",
        "  # predicting with test data\n",
        "  y_pred = svc_model.predict(X_train_test)\n",
        "    \n",
        "  # getting accuracy for k values\n",
        "  cm = confusion_matrix(y_train_test,y_pred)\n",
        "  local_accuracy_i = sum(np.diag(cm)) / y_train_test.shape[0]\n",
        "  accuracy_rbf_bootstrap.append(local_accuracy_i) \n",
        "  print(f'Random state:: {i}, local accuracy: {local_accuracy_i}')\n",
        "print(f'Average accuracy value for rbf model :{sum(accuracy_rbf_bootstrap) / len(accuracy_rbf_bootstrap)}') "
      ],
      "execution_count": null,
      "outputs": [
        {
          "output_type": "stream",
          "text": [
            "Random state:: 0, local accuracy: 0.7729885057471264\n",
            "Random state:: 1, local accuracy: 0.8005780346820809\n",
            "Random state:: 2, local accuracy: 0.8134110787172012\n",
            "Random state:: 3, local accuracy: 0.7780898876404494\n",
            "Random state:: 4, local accuracy: 0.8081395348837209\n",
            "Random state:: 5, local accuracy: 0.8017492711370262\n",
            "Random state:: 6, local accuracy: 0.7897727272727273\n",
            "Random state:: 7, local accuracy: 0.8063583815028902\n",
            "Random state:: 8, local accuracy: 0.8419540229885057\n",
            "Random state:: 9, local accuracy: 0.7653631284916201\n",
            "Average accuracy value for rbf model :0.7978404573063348\n"
          ],
          "name": "stdout"
        }
      ]
    },
    {
      "cell_type": "code",
      "metadata": {
        "colab": {
          "base_uri": "https://localhost:8080/",
          "height": 295
        },
        "id": "n9OiIqcvpoqY",
        "outputId": "00769bd8-043b-4888-9ee7-99de3c8e1239"
      },
      "source": [
        "ind_max_rbf_boot = accuracy_rbf_bootstrap.index(max(accuracy_rbf_bootstrap))\n",
        "plt.plot(np.arange(0, 10), accuracy_rbf_bootstrap, 'o-')\n",
        "plt.xlabel(\"Iteration\")\n",
        "plt.ylabel(\"Accuracy\")\n",
        "plt.vlines(ind_max_rbf_boot, 0, max(accuracy_rbf_bootstrap), linestyles='dashed', colors='red', label=\"Highest Accuracy\")\n",
        "plt.text(ind_max_rbf_boot + .2, max(accuracy_rbf_bootstrap), round(max(accuracy_rbf_bootstrap), 3))\n",
        "plt.text(ind_max_rbf_boot + .2, 0.71, 't='+str(ind_max_rbf_boot))\n",
        "plt.legend(bbox_to_anchor=(1.05, 1), loc='upper left', borderaxespad=0.)\n",
        "plt.title(\"Accuracy Value in RBF Model with Bootstrap\")\n",
        "plt.ylim(.7,1)\n",
        "plt.show()"
      ],
      "execution_count": null,
      "outputs": [
        {
          "output_type": "display_data",
          "data": {
            "image/png": "[encoded data removed]",
            "text/plain": [
              "<Figure size 432x288 with 1 Axes>"
            ]
          },
          "metadata": {
            "tags": [],
            "needs_background": "light"
          }
        }
      ]
    },
    {
      "cell_type": "markdown",
      "metadata": {
        "id": "Q5lRLETKT23W"
      },
      "source": [
        "## *Model SVM*"
      ]
    },
    {
      "cell_type": "markdown",
      "metadata": {
        "id": "HDb_vl34Chan"
      },
      "source": [
        "### *Create and Fitting the model*"
      ]
    },
    {
      "cell_type": "code",
      "metadata": {
        "colab": {
          "base_uri": "https://localhost:8080/"
        },
        "id": "VMZ-b0bJT6Bs",
        "outputId": "225017f8-a1d5-434f-fc73-33862e69f14f"
      },
      "source": [
        "svc_model = SVC(kernel='linear')\n",
        "svc_model.fit(X_train, y_train)"
      ],
      "execution_count": null,
      "outputs": [
        {
          "output_type": "execute_result",
          "data": {
            "text/plain": [
              "SVC(C=1.0, break_ties=False, cache_size=200, class_weight=None, coef0=0.0,\n",
              "    decision_function_shape='ovr', degree=3, gamma='scale', kernel='linear',\n",
              "    max_iter=-1, probability=False, random_state=None, shrinking=True,\n",
              "    tol=0.001, verbose=False)"
            ]
          },
          "metadata": {
            "tags": []
          },
          "execution_count": 138
        }
      ]
    },
    {
      "cell_type": "markdown",
      "metadata": {
        "id": "rSP55IvgCohG"
      },
      "source": [
        "### *Predict with test data*"
      ]
    },
    {
      "cell_type": "code",
      "metadata": {
        "id": "BO_y_RkAUNi8"
      },
      "source": [
        "y_pred = svc_model.predict(X_test)"
      ],
      "execution_count": null,
      "outputs": []
    },
    {
      "cell_type": "code",
      "metadata": {
        "colab": {
          "base_uri": "https://localhost:8080/"
        },
        "id": "Fa8ZWvCrUN83",
        "outputId": "23d2cd1a-e283-480a-e034-be521fbfe87b"
      },
      "source": [
        "cm = confusion_matrix(y_test,y_pred)\n",
        "cr = classification_report(y_test,y_pred)\n",
        "print(f'Accuracy: {np.round(sum(np.diag(cm)/y_pred.shape[0]), 3)}')\n",
        "print(cm)\n",
        "print(cr)"
      ],
      "execution_count": null,
      "outputs": [
        {
          "output_type": "stream",
          "text": [
            "Accuracy: 0.99\n",
            "[[27  0  0  0  0  0  0]\n",
            " [ 0 11  0  0  0  0  0]\n",
            " [ 2  0 34  0  0  0  0]\n",
            " [ 0  0  0 17  0  0  0]\n",
            " [ 0  0  0  0 15  0  0]\n",
            " [ 0  0  0  0  0 42  0]\n",
            " [ 0  0  0  0  0  0 50]]\n",
            "              precision    recall  f1-score   support\n",
            "\n",
            "         0.0       0.93      1.00      0.96        27\n",
            "         1.0       1.00      1.00      1.00        11\n",
            "         2.0       1.00      0.94      0.97        36\n",
            "         3.0       1.00      1.00      1.00        17\n",
            "         4.0       1.00      1.00      1.00        15\n",
            "         5.0       1.00      1.00      1.00        42\n",
            "         6.0       1.00      1.00      1.00        50\n",
            "\n",
            "    accuracy                           0.99       198\n",
            "   macro avg       0.99      0.99      0.99       198\n",
            "weighted avg       0.99      0.99      0.99       198\n",
            "\n"
          ],
          "name": "stdout"
        }
      ]
    },
    {
      "cell_type": "code",
      "metadata": {
        "colab": {
          "base_uri": "https://localhost:8080/",
          "height": 458
        },
        "id": "xpY1seuxUVIP",
        "outputId": "1b5045eb-26bd-4124-e30b-73d9eea5406a"
      },
      "source": [
        "plt.figure(figsize = (10,7))\n",
        "sn.heatmap(cm / y_test.shape[0], annot=True)\n",
        "plt.xlabel('Predicted')\n",
        "plt.ylabel('Truth')\n",
        "plt.title(\"Relative Confusion Matrix\")\n",
        "plt.show()"
      ],
      "execution_count": null,
      "outputs": [
        {
          "output_type": "display_data",
          "data": {
            "image/png": "[encoded data removed]",
            "text/plain": [
              "<Figure size 720x504 with 2 Axes>"
            ]
          },
          "metadata": {
            "tags": [],
            "needs_background": "light"
          }
        }
      ]
    },
    {
      "cell_type": "markdown",
      "metadata": {
        "id": "x6dXUvVaYbRq"
      },
      "source": [
        "## PCA"
      ]
    },
    {
      "cell_type": "code",
      "metadata": {
        "colab": {
          "base_uri": "https://localhost:8080/"
        },
        "id": "5Sc4XTsQvGJu",
        "outputId": "c78bb4e8-a63f-4c0a-ee63-93e6137a70ef"
      },
      "source": [
        "from sklearn.decomposition import PCA\n",
        "features_n = [50, 100, 200, 300, 400]\n",
        "explained_p = []\n",
        "accuracy_pca = []\n",
        "for size_n in features_n:\n",
        "  p = PCA(n_components=size_n, whiten=True).fit(X_train)\n",
        "  X = p.transform(X_train)\n",
        "  print(f'Explained value: {sum(p.explained_variance_ratio_)}')\n",
        "  explained_p.append(sum(p.explained_variance_ratio_))\n",
        "  svc_model = SVC(kernel='linear')\n",
        "  svc_model.fit(X, y_train)\n",
        "  x_p = p.transform(X_test)\n",
        "  y_pred = svc_model.predict(x_p)\n",
        "  cm = confusion_matrix(y_test,y_pred)\n",
        "  print(f'Size:{size_n}, Accuracy:{sum(np.diag(cm))/y_test.shape[0]}')\n",
        "  accuracy_pca.append(sum(np.diag(cm))/y_test.shape[0])"
      ],
      "execution_count": null,
      "outputs": [
        {
          "output_type": "stream",
          "text": [
            "Explained value: 0.9396461480640859\n",
            "Size:50, Accuracy:0.9848484848484849\n",
            "Explained value: 0.9780733354958626\n",
            "Size:100, Accuracy:0.9848484848484849\n",
            "Explained value: 0.9958540602301503\n",
            "Size:200, Accuracy:0.98989898989899\n",
            "Explained value: 0.9992406597626818\n",
            "Size:300, Accuracy:0.98989898989899\n",
            "Explained value: 0.9998720499438818\n",
            "Size:400, Accuracy:0.98989898989899\n"
          ],
          "name": "stdout"
        }
      ]
    },
    {
      "cell_type": "code",
      "metadata": {
        "colab": {
          "base_uri": "https://localhost:8080/",
          "height": 295
        },
        "id": "SDGNMvc8wJnU",
        "outputId": "85460741-bc86-4579-b7f1-fe6178b528ad"
      },
      "source": [
        "plt.plot(features_n, accuracy_pca, 'o-')\n",
        "ind_max_ac_pca = features_n[accuracy_pca.index(max(accuracy_pca))]\n",
        "plt.plot(features_n, accuracy_pca, 'o-')\n",
        "plt.xlabel(\"Size of Training Set\")\n",
        "plt.ylabel(\"Accuracy\")\n",
        "plt.vlines(ind_max_ac_pca, 0, max(accuracy_pca), linestyles='dashed', colors='red', label=\"Highest Accuracy\")\n",
        "plt.text(ind_max_ac_pca + 5, max(accuracy_pca), round(max(accuracy_pca), 3))\n",
        "plt.text(ind_max_ac_pca + 5, 0.953, 'n='+str(ind_max_ac_pca))\n",
        "plt.legend(bbox_to_anchor=(1.05, 1), loc='upper left', borderaxespad=0.)\n",
        "plt.title(\"Accuracy by Size of Training Set Value\")\n",
        "plt.ylim(.95,1)\n",
        "plt.show()"
      ],
      "execution_count": null,
      "outputs": [
        {
          "output_type": "display_data",
          "data": {
            "image/png": "[encoded data removed]",
            "text/plain": [
              "<Figure size 432x288 with 1 Axes>"
            ]
          },
          "metadata": {
            "tags": [],
            "needs_background": "light"
          }
        }
      ]
    },
    {
      "cell_type": "code",
      "metadata": {
        "colab": {
          "base_uri": "https://localhost:8080/",
          "height": 295
        },
        "id": "xaoUrcWL9pj5",
        "outputId": "6d5167d1-bf95-4987-d82f-2fed9dea5805"
      },
      "source": [
        "plt.plot(features_n, explained_p, 'o-')\n",
        "ind_max_ex_pca = features_n[explained_p.index(max(explained_p))]\n",
        "plt.plot(features_n, explained_p, 'o-')\n",
        "plt.xlabel(\"Size of Training Set\")\n",
        "plt.ylabel(\"Accuracy\")\n",
        "plt.vlines(ind_max_ex_pca, 0, max(explained_p), linestyles='dashed', colors='red', label=\"Highest Explained Value\")\n",
        "plt.text(ind_max_ex_pca + 5, max(explained_p), round(max(explained_p), 3))\n",
        "plt.text(ind_max_ex_pca + 5, 0.953, 'n='+str(ind_max_ex_pca))\n",
        "plt.legend(bbox_to_anchor=(1.05, 1), loc='upper left', borderaxespad=0.)\n",
        "plt.title(\"Explained by Size of Training Set Value\")\n",
        "plt.ylim(.935,1)\n",
        "plt.show()"
      ],
      "execution_count": null,
      "outputs": [
        {
          "output_type": "display_data",
          "data": {
            "image/png": "[encoded data removed]",
            "text/plain": [
              "<Figure size 432x288 with 1 Axes>"
            ]
          },
          "metadata": {
            "tags": [],
            "needs_background": "light"
          }
        }
      ]
    },
    {
      "cell_type": "code",
      "metadata": {
        "id": "wXlC7_4AXTjz"
      },
      "source": [
        "from sklearn.decomposition import PCA\n",
        "np.random.seed(100)\n",
        "p = PCA(n_components=100, whiten=True).fit(X_train)\n",
        "X = p.transform(X_train)"
      ],
      "execution_count": null,
      "outputs": []
    },
    {
      "cell_type": "code",
      "metadata": {
        "colab": {
          "base_uri": "https://localhost:8080/"
        },
        "id": "_XD--8MkcmA9",
        "outputId": "8f570af1-9d8b-4161-f561-fa3931e568d0"
      },
      "source": [
        "sum(p.explained_variance_ratio_)"
      ],
      "execution_count": null,
      "outputs": [
        {
          "output_type": "execute_result",
          "data": {
            "text/plain": [
              "0.9780507857730601"
            ]
          },
          "metadata": {
            "tags": []
          },
          "execution_count": 204
        }
      ]
    },
    {
      "cell_type": "code",
      "metadata": {
        "colab": {
          "base_uri": "https://localhost:8080/"
        },
        "id": "AFChD__9X0Eo",
        "outputId": "2037f5e0-e22a-4b26-ca6a-64abaf8fed58"
      },
      "source": [
        "svc_model = SVC(kernel='linear')\n",
        "svc_model.fit(X, y_train)"
      ],
      "execution_count": null,
      "outputs": [
        {
          "output_type": "execute_result",
          "data": {
            "text/plain": [
              "SVC(C=1.0, break_ties=False, cache_size=200, class_weight=None, coef0=0.0,\n",
              "    decision_function_shape='ovr', degree=3, gamma='scale', kernel='linear',\n",
              "    max_iter=-1, probability=False, random_state=None, shrinking=True,\n",
              "    tol=0.001, verbose=False)"
            ]
          },
          "metadata": {
            "tags": []
          },
          "execution_count": 205
        }
      ]
    },
    {
      "cell_type": "code",
      "metadata": {
        "id": "QGgz4V0ocGpK"
      },
      "source": [
        "xtest_100 = p.transform(X_test)\n",
        "y_pred_100 = svc_model.predict(xtest_100)"
      ],
      "execution_count": null,
      "outputs": []
    },
    {
      "cell_type": "code",
      "metadata": {
        "colab": {
          "base_uri": "https://localhost:8080/"
        },
        "id": "ztGuU02db8zU",
        "outputId": "4f360738-ee61-4e7b-fcac-714e14dd904a"
      },
      "source": [
        "cm_100 = confusion_matrix(y_test,y_pred_100)\n",
        "cr_100 = classification_report(y_test,y_pred_100)\n",
        "print(cm_100)\n",
        "print(cr_100)"
      ],
      "execution_count": null,
      "outputs": [
        {
          "output_type": "stream",
          "text": [
            "[[27  0  0  0  0  0  0]\n",
            " [ 0 11  0  0  0  0  0]\n",
            " [ 0  0 36  0  0  0  0]\n",
            " [ 0  0  0 17  0  0  0]\n",
            " [ 0  0  0  0 15  0  0]\n",
            " [ 0  0  0  0  0 41  1]\n",
            " [ 0  0  0  0  0  0 50]]\n",
            "              precision    recall  f1-score   support\n",
            "\n",
            "         0.0       1.00      1.00      1.00        27\n",
            "         1.0       1.00      1.00      1.00        11\n",
            "         2.0       1.00      1.00      1.00        36\n",
            "         3.0       1.00      1.00      1.00        17\n",
            "         4.0       1.00      1.00      1.00        15\n",
            "         5.0       1.00      0.98      0.99        42\n",
            "         6.0       0.98      1.00      0.99        50\n",
            "\n",
            "    accuracy                           0.99       198\n",
            "   macro avg       1.00      1.00      1.00       198\n",
            "weighted avg       1.00      0.99      0.99       198\n",
            "\n"
          ],
          "name": "stdout"
        }
      ]
    },
    {
      "cell_type": "code",
      "metadata": {
        "id": "55OvEoNpntzM",
        "colab": {
          "base_uri": "https://localhost:8080/"
        },
        "outputId": "0d299bb8-0826-490b-b122-b6657572f71c"
      },
      "source": [
        "np.round(sum(np.diag(cm_100))/y_test.shape[0], 3)"
      ],
      "execution_count": null,
      "outputs": [
        {
          "output_type": "execute_result",
          "data": {
            "text/plain": [
              "0.995"
            ]
          },
          "metadata": {
            "tags": []
          },
          "execution_count": 208
        }
      ]
    },
    {
      "cell_type": "code",
      "metadata": {
        "colab": {
          "base_uri": "https://localhost:8080/",
          "height": 458
        },
        "id": "Cu4_VgxocSgF",
        "outputId": "db33bf41-0f89-48de-a2b7-1cea5015671c"
      },
      "source": [
        "plt.figure(figsize = (10,7))\n",
        "sn.heatmap(cm_100 / y_test.shape[0], annot=True)\n",
        "plt.xlabel('Predicted')\n",
        "plt.ylabel('Truth') \n",
        "plt.title(\"Relative Confusion Matrix\")\n",
        "plt.show()"
      ],
      "execution_count": null,
      "outputs": [
        {
          "output_type": "display_data",
          "data": {
            "image/png": "[encoded data removed]",
            "text/plain": [
              "<Figure size 720x504 with 2 Axes>"
            ]
          },
          "metadata": {
            "tags": [],
            "needs_background": "light"
          }
        }
      ]
    }
  ]
}