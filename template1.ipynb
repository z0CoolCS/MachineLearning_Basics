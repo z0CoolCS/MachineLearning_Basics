{
  "nbformat": 4,
  "nbformat_minor": 0,
  "metadata": {
    "colab": {
      "name": "Homework1.ipynb",
      "provenance": [],
      "collapsed_sections": []
    },
    "kernelspec": {
      "name": "python3",
      "display_name": "Python 3"
    },
    "language_info": {
      "name": "python"
    }
  },
  "cells": [
    {
      "cell_type": "code",
      "metadata": {
        "id": "Rr8NQnMU9YoD"
      },
      "source": [
        "import numpy as np\n",
        "import matplotlib.pyplot as plt"
      ],
      "execution_count": null,
      "outputs": []
    },
    {
      "cell_type": "code",
      "metadata": {
        "id": "aSK9nI5bsZoY"
      },
      "source": [
        "def h(x, w):\n",
        "  return x @ w"
      ],
      "execution_count": null,
      "outputs": []
    },
    {
      "cell_type": "markdown",
      "metadata": {
        "id": "WSTNTHnzxHKm"
      },
      "source": [
        "**LOSS FUNCTION Minimum Square Error (MSE)**"
      ]
    },
    {
      "cell_type": "code",
      "metadata": {
        "id": "J98YHWR0Aix8"
      },
      "source": [
        "def error_mse(x, y, w):\n",
        "  return sum((h(x, w) - y) ** 2) / (2*len(y))"
      ],
      "execution_count": null,
      "outputs": []
    },
    {
      "cell_type": "code",
      "metadata": {
        "id": "T3YcIFgbBcE8"
      },
      "source": [
        "def loss_function_mse(x, y, w):\n",
        "  return np.sum((h(x, w) - y) * x, axis = 0, keepdims= True).T / len(y)"
      ],
      "execution_count": null,
      "outputs": []
    },
    {
      "cell_type": "markdown",
      "metadata": {
        "id": "e4ZfOgjgZial"
      },
      "source": [
        "**LOSS FUNCTION Minimum Absolute Error (MAE)**"
      ]
    },
    {
      "cell_type": "code",
      "metadata": {
        "id": "_1JLXGo_ZpvW"
      },
      "source": [
        "def error_mae(x, y, w):\n",
        "  return sum(np.abs(h(x, w) - y)) / len(y)"
      ],
      "execution_count": null,
      "outputs": []
    },
    {
      "cell_type": "code",
      "metadata": {
        "id": "om8_pRnqZ3bl"
      },
      "source": [
        "def loss_function_mae(x, y, w):\n",
        "  diff = (h(x, w) - y)\n",
        "  return np.sum((diff / np.abs(diff)) * x, axis = 0, keepdims= True).T / len(y)"
      ],
      "execution_count": null,
      "outputs": []
    },
    {
      "cell_type": "markdown",
      "metadata": {
        "id": "aRWI3mYzxNtS"
      },
      "source": [
        "**LOSS FUNCTION WITH REGULAIRZATION RIDGE**"
      ]
    },
    {
      "cell_type": "code",
      "metadata": {
        "id": "0Av2Ms5Poj5f"
      },
      "source": [
        "def regularization_ridge(error_function, x, y, w):\n",
        "  w_0 = np.copy(w)\n",
        "  w_0[0] = 0\n",
        "  return error_function(x, y, w) + (lambda_v * sum(w_0*w_0)) /  (2*len(y))"
      ],
      "execution_count": null,
      "outputs": []
    },
    {
      "cell_type": "code",
      "metadata": {
        "id": "kYA99r3rKHwU"
      },
      "source": [
        "def ridge_regression(w):\n",
        "  with_w0 = lambda_v * w \n",
        "  with_w0[0][0] = 0\n",
        "  return with_w0"
      ],
      "execution_count": null,
      "outputs": []
    },
    {
      "cell_type": "code",
      "metadata": {
        "id": "KNSPgvcSK2e3"
      },
      "source": [
        "def lost_function_ridge(loss_function, x, y, w):\n",
        "  return loss_function(x, y, w) + (ridge_regression(w))/ len(y) "
      ],
      "execution_count": null,
      "outputs": []
    },
    {
      "cell_type": "markdown",
      "metadata": {
        "id": "tybQ4HTMxTRG"
      },
      "source": [
        "**LOSS FUNCTION WITH REGULARIZATION LASSO**"
      ]
    },
    {
      "cell_type": "code",
      "metadata": {
        "id": "mXNmOfr0Pdfw"
      },
      "source": [
        "def regularization_lasso(error_function, x, y, w):\n",
        "  w_0 = np.copy(w)\n",
        "  w_0[0] = 0\n",
        "  return error_function(x, y, w) + (lambda_v * np.abs(w_0))/ (2*len(y))"
      ],
      "execution_count": null,
      "outputs": []
    },
    {
      "cell_type": "code",
      "metadata": {
        "id": "VPxaLgw8dfYD"
      },
      "source": [
        "def lasso_regression(w):\n",
        "  with_w0 = np.repeat(lambda_v, len(w))\n",
        "  with_w0.shape = (len(w), 1)\n",
        "  with_w0[0][0] = 0\n",
        "  return with_w0 "
      ],
      "execution_count": null,
      "outputs": []
    },
    {
      "cell_type": "code",
      "metadata": {
        "id": "eYUCgKS2Psbt"
      },
      "source": [
        "def lost_function_lasso(loss_function, x, y, w):\n",
        "  return loss_function(x, y, w) + lasso_regression(w)/ len(y)"
      ],
      "execution_count": null,
      "outputs": []
    },
    {
      "cell_type": "markdown",
      "metadata": {
        "id": "6DOUrT_jyILO"
      },
      "source": [
        "**Generate DataSet**"
      ]
    },
    {
      "cell_type": "code",
      "metadata": {
        "id": "exjL-tY-9-3I",
        "colab": {
          "base_uri": "https://localhost:8080/",
          "height": 282
        },
        "outputId": "107ed509-4359-46ce-f22e-5632375dc644"
      },
      "source": [
        "x = np.arange(0, 1, .01)\n",
        "y = np.array([np.sin(2*i*np.pi)+np.random.normal(0,0.2)  for i in x])\n",
        "y.shape = (len(x), 1) #(10, 1) nrows = 10, ncols = 1\n",
        "ones = np.ones(len(x))\n",
        "x = np.c_[ones, x]\n",
        "plt.scatter(x[:,1], y)"
      ],
      "execution_count": null,
      "outputs": [
        {
          "output_type": "execute_result",
          "data": {
            "text/plain": [
              "<matplotlib.collections.PathCollection at 0x7f5d4b93c2d0>"
            ]
          },
          "metadata": {
            "tags": []
          },
          "execution_count": 13
        },
        {
          "output_type": "display_data",
          "data": {
            "image/png": "[encoded data removed]",
            "text/plain": [
              "<Figure size 432x288 with 1 Axes>"
            ]
          },
          "metadata": {
            "tags": [],
            "needs_background": "light"
          }
        }
      ]
    },
    {
      "cell_type": "markdown",
      "metadata": {
        "id": "nCj63r-t_TZd"
      },
      "source": [
        "**Generate Train and Test DataSet**"
      ]
    },
    {
      "cell_type": "code",
      "metadata": {
        "id": "XcpEb-FLwEfI"
      },
      "source": [
        "def getSetTraining(x, y):\n",
        "  index = np.arange(0, len(y), step = 1)\n",
        "  index_limit = int(.75*len(index))\n",
        "  np.random.shuffle(index)\n",
        "  index_train, index_test = index[:index_limit], index[index_limit:]\n",
        "  index_train = np.sort(index_train)\n",
        "  index_test = np.sort(index_test)\n",
        "  return x[index_train,:], x[index_test,:],y[index_train,:], y[index_test,:]\n",
        "x_train, x_test, y_train, y_test = getSetTraining(x, y)"
      ],
      "execution_count": null,
      "outputs": []
    },
    {
      "cell_type": "code",
      "metadata": {
        "id": "ZngLwU3f4xT0"
      },
      "source": [
        "def getMatrixWithDimensionW(x_p):\n",
        "  dim = len(w)\n",
        "  i = x_train.shape[1] - 1\n",
        "  xcopy = np.copy(x_p)\n",
        "  while (dim > i + 1):\n",
        "      x_tmp = xcopy[:,i] * xcopy[:,1]\n",
        "      xcopy = np.c_[xcopy, x_tmp]\n",
        "      i += 1\n",
        "  return xcopy"
      ],
      "execution_count": null,
      "outputs": []
    },
    {
      "cell_type": "markdown",
      "metadata": {
        "id": "i7eGAxKI_MXh"
      },
      "source": [
        "**Batch Gradient Descent**"
      ]
    },
    {
      "cell_type": "code",
      "metadata": {
        "id": "y46gdM869k7n"
      },
      "source": [
        "def batch_gradient_descent(loss_function, x, y, w):\n",
        "  return - alpha * loss_function(x, y, w)"
      ],
      "execution_count": null,
      "outputs": []
    },
    {
      "cell_type": "markdown",
      "metadata": {
        "id": "XQjsMMidD_ii"
      },
      "source": [
        "**Stochastic Gradient Descent**"
      ]
    },
    {
      "cell_type": "code",
      "metadata": {
        "id": "1oP32_3-EOtn"
      },
      "source": [
        "def stochastic_gradient_descent(loss_function, x, y, w):\n",
        "  index_rand = np.random.permutation(len(y))[0]\n",
        "  example_x = x[index_rand:index_rand+1,:]\n",
        "  example_y = y[index_rand:index_rand+1,:]\n",
        "  return - alpha * loss_function(example_x, example_y, w)"
      ],
      "execution_count": null,
      "outputs": []
    },
    {
      "cell_type": "markdown",
      "metadata": {
        "id": "aQynIdckRS3e"
      },
      "source": [
        "**Momentum Stochastic Gradient Descent**"
      ]
    },
    {
      "cell_type": "code",
      "metadata": {
        "id": "ldmGFbBSRSVZ"
      },
      "source": [
        "def momentum_stochastic_gradient_descent(loss_function, x, y, w): \n",
        "  global prev_gradient\n",
        "  val_ret = (gamma * prev_gradient) + batch_gradient_descent(loss_function, x, y, w)\n",
        "  prev_gradient = np.copy(val_ret)\n",
        "  return val_ret"
      ],
      "execution_count": null,
      "outputs": []
    },
    {
      "cell_type": "code",
      "metadata": {
        "colab": {
          "base_uri": "https://localhost:8080/"
        },
        "id": "Na3GJVPwknm5",
        "outputId": "940505dd-13c1-4921-e384-a38ad11f9148"
      },
      "source": [
        "1e-8"
      ],
      "execution_count": null,
      "outputs": [
        {
          "output_type": "execute_result",
          "data": {
            "text/plain": [
              "1e-08"
            ]
          },
          "metadata": {
            "tags": []
          },
          "execution_count": 69
        }
      ]
    },
    {
      "cell_type": "markdown",
      "metadata": {
        "id": "-NmW7mOwjdxz"
      },
      "source": [
        "**Parameters**"
      ]
    },
    {
      "cell_type": "code",
      "metadata": {
        "id": "0cZt-AhkjfiV"
      },
      "source": [
        "alpha = 0.01  # learning rate\n",
        "error_limit = 10**6 #4\n",
        "lambda_v = 0.00001 # tuning parameter, for regularization\n",
        "prev_gradient = 0 # for momemtun stochastic gradient descent\n",
        "gamma = 0.9 # for momemtun stochastic gradient descent"
      ],
      "execution_count": null,
      "outputs": []
    },
    {
      "cell_type": "code",
      "metadata": {
        "id": "sBJq7-gHDCFv"
      },
      "source": [
        "import time\n",
        "\n",
        "w = np.zeros(shape = (4, 1))\n",
        "\n",
        "list_error = []\n",
        "prev_gradient = 0 # for momemtun stochastic gradient descent\n",
        "xcopy = getMatrixWithDimensionW(x_train)\n",
        "\n",
        "epochs = error_limit\n",
        "\n",
        "bef = time.time()\n",
        "while epochs:\n",
        "  epochs -= 1\n",
        "  #w = w + batch_gradient_descent(loss_function_mse, xcopy, y_train, w)\n",
        "  #w = w + stochastic_gradient_descent(loss_function_mse, xcopy, y_train, w)\n",
        "  w = w + momentum_stochastic_gradient_descent(loss_function_mse, xcopy, y_train, w)\n",
        "  list_error.append(error_mse(xcopy, y_train, w))\n",
        "  print(list_error[-1])\n",
        "  #print(w)\n",
        "  \n",
        "aft = time.time()\n",
        "print(\"Full time::\",aft - bef)"
      ],
      "execution_count": null,
      "outputs": []
    },
    {
      "cell_type": "code",
      "metadata": {
        "id": "pdJOVzR_KIP9"
      },
      "source": [
        "gamma = 0.9\n",
        "prev_gradient_descent = 0\n",
        "grad = prev_gradient_descent * gamma - gradient\n",
        "w = w - grad\n",
        "previ = gradient"
      ],
      "execution_count": null,
      "outputs": []
    },
    {
      "cell_type": "code",
      "metadata": {
        "id": "KaPbqFPo43aB"
      },
      "source": [
        ""
      ],
      "execution_count": null,
      "outputs": []
    },
    {
      "cell_type": "markdown",
      "metadata": {
        "id": "KmijrFnoQ100"
      },
      "source": [
        "$$w_0 + w_1 * x^1+ w_1 * x^2+ w_3 * x^3$$\n"
      ]
    },
    {
      "cell_type": "markdown",
      "metadata": {
        "id": "4mJ0qiye5_Mf"
      },
      "source": [
        "**`Plotting Training DataSet`**"
      ]
    },
    {
      "cell_type": "code",
      "metadata": {
        "colab": {
          "base_uri": "https://localhost:8080/",
          "height": 282
        },
        "id": "4u2eyR9T5RZt",
        "outputId": "301e80fc-13db-4371-dca6-cf75468ff202"
      },
      "source": [
        "yf_train = h(getMatrixWithDimensionW(x_train), w)\n",
        "#yt.shape, x.shape\n",
        "plt.scatter(x_train[:,1], y_train)\n",
        "plt.plot(x_train[:,1], yf_train)"
      ],
      "execution_count": null,
      "outputs": [
        {
          "output_type": "execute_result",
          "data": {
            "text/plain": [
              "[<matplotlib.lines.Line2D at 0x7f5d4ae27410>]"
            ]
          },
          "metadata": {
            "tags": []
          },
          "execution_count": 67
        },
        {
          "output_type": "display_data",
          "data": {
            "image/png": "[encoded data removed]",
            "text/plain": [
              "<Figure size 432x288 with 1 Axes>"
            ]
          },
          "metadata": {
            "tags": [],
            "needs_background": "light"
          }
        }
      ]
    },
    {
      "cell_type": "markdown",
      "metadata": {
        "id": "XR0tksp66N4n"
      },
      "source": [
        "**`Plotting Training DataSet`**"
      ]
    },
    {
      "cell_type": "code",
      "metadata": {
        "colab": {
          "base_uri": "https://localhost:8080/",
          "height": 285
        },
        "id": "v6wXmHgc6RdB",
        "outputId": "a6b8afbe-5587-478c-b160-d3e6691f57be"
      },
      "source": [
        "yf_test = h(getMatrixWithDimensionW(x_test), w)\n",
        "#yt.shape, x.shape\n",
        "plt.scatter(x_test[:,1], y_test)\n",
        "plt.plot(x_test[:,1], yf_test)"
      ],
      "execution_count": null,
      "outputs": [
        {
          "output_type": "execute_result",
          "data": {
            "text/plain": [
              "[<matplotlib.lines.Line2D at 0x7f5d4aef1190>]"
            ]
          },
          "metadata": {
            "tags": []
          },
          "execution_count": 63
        },
        {
          "output_type": "display_data",
          "data": {
            "image/png": "[encoded data removed]",
            "text/plain": [
              "<Figure size 432x288 with 1 Axes>"
            ]
          },
          "metadata": {
            "tags": [],
            "needs_background": "light"
          }
        }
      ]
    },
    {
      "cell_type": "markdown",
      "metadata": {
        "id": "nPzMV__SQkic"
      },
      "source": [
        "$$w_0 + w_1 * x^1+ w_1 * x^2+ w_1 * x^3 ... + w_1 * x^9$$"
      ]
    },
    {
      "cell_type": "code",
      "metadata": {
        "colab": {
          "base_uri": "https://localhost:8080/",
          "height": 282
        },
        "id": "b-MecQMO4emP",
        "outputId": "50624415-dab7-4a18-99ed-0e6491124bb2"
      },
      "source": [
        "list_error = np.array(list_error)\n",
        "#plt.plot(list_error[2124124:])\n",
        "plt.plot(list_error)\n",
        "#np.where(list_error < 0.0350)                                                \n",
        "#list_error[2]\n",
        "#len(list_error)\n"
      ],
      "execution_count": null,
      "outputs": [
        {
          "output_type": "execute_result",
          "data": {
            "text/plain": [
              "[<matplotlib.lines.Line2D at 0x7f5d4ac13350>]"
            ]
          },
          "metadata": {
            "tags": []
          },
          "execution_count": 68
        },
        {
          "output_type": "display_data",
          "data": {
            "image/png": "[encoded data removed]",
            "text/plain": [
              "<Figure size 432x288 with 1 Axes>"
            ]
          },
          "metadata": {
            "tags": [],
            "needs_background": "light"
          }
        }
      ]
    }
  ]
}